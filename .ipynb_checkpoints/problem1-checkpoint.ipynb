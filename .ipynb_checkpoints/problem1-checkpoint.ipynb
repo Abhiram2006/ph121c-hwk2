{
 "cells": [
  {
   "cell_type": "code",
   "execution_count": null,
   "id": "dd9fd08e-a074-4794-8118-d38b547c57a1",
   "metadata": {
    "tags": []
   },
   "outputs": [],
   "source": [
    "from PIL import Image\n",
    "import numpy as np\n",
    "import scipy\n",
    "import matplotlib.pyplot as plt\n",
    "from tqdm import tqdm\n",
    "import time\n",
    "import sys\n",
    "import os\n",
    "from multiprocessing import Pool\n",
    "from functools import partial\n",
    "directory = 'figures'\n",
    "if not os.path.exists(directory):\n",
    "    os.makedirs(directory)\n",
    "from concurrent.futures import ProcessPoolExecutor, as_completed\n",
    "from dask.distributed import Client, progress\n",
    "from dask import compute, delayed\n",
    "import dask.array as da\n",
    "from dask.diagnostics import ProgressBar\n",
    "plt.rcParams['figure.dpi']=400"
   ]
  },
  {
   "cell_type": "code",
   "execution_count": null,
   "id": "d67e840e-3291-40e4-8bd3-f2b3c54b5bae",
   "metadata": {},
   "outputs": [],
   "source": [
    "def load_image(num):\n",
    "    # loads image, converts to grayscale, then converts to a matrix\n",
    "    image = Image.open('images/'+f'image{num}.png')\n",
    "    gray_image = image.convert('L')\n",
    "    matrix = np.array(gray_image)\n",
    "    return matrix\n",
    "\n",
    "def compute_svd(image_matrix):\n",
    "    # computes the singular value decomposition of a matrix\n",
    "    U, s, Vt = np.linalg.svd(image_matrix, full_matrices=False)\n",
    "    return U, s, Vt\n",
    "\n",
    "def compress_image(U, s, Vt, k):\n",
    "    # compresses it to rank k\n",
    "    S = np.diag(s[:k])\n",
    "    return np.dot(U[:, :k], np.dot(S, Vt[:k, :]))\n",
    "\n",
    "def frobenius_percent(original, approx):\n",
    "    # computes frobenius error\n",
    "    return 100*(np.linalg.norm(original - approx, 'fro')/np.linalg.norm(original, 'fro'))\n",
    "\n",
    "def memory_saved(m, n, k, s):\n",
    "    # computes percentage memory saved\n",
    "    new = (m * k + k + n * k)\n",
    "    old = m * len(s) + len(s) + n * len(s)\n",
    "    return 100*(old-new)/old\n",
    "    "
   ]
  },
  {
   "cell_type": "code",
   "execution_count": null,
   "id": "9c9c0308-4403-434f-b3f0-876fb92af8ae",
   "metadata": {},
   "outputs": [],
   "source": [
    "path = 2\n",
    "A = load_image(path)\n",
    "U, s, Vt = compute_svd(A)\n",
    "N = int(np.log2(len(s)))\n",
    "ks=[]\n",
    "\n",
    "for i in range(2, N+1):\n",
    "    ks.append(len(s)//2**i) \n",
    "    \n",
    "images = [A]\n",
    "titles = [f'Original, k = {len(s)}']\n",
    "frobenius=[0]\n",
    "m, n = A.shape\n",
    "memory=[0]\n",
    "\n",
    "for k in ks:\n",
    "    A_k = compress_image(U, s, Vt, k)\n",
    "    images.append(A_k)\n",
    "    frobenius.append(frobenius_percent(A, A_k))\n",
    "    memory.append(memory_saved(m, n, k, s))\n",
    "    titles.append(f'k = {k}')"
   ]
  },
  {
   "cell_type": "code",
   "execution_count": null,
   "id": "407cd5ce-0854-4b64-b131-b00320bba6a3",
   "metadata": {},
   "outputs": [],
   "source": [
    "num_images = len(images)\n",
    "cols = min(num_images, 3)\n",
    "rows = num_images // cols + (num_images % cols > 0)\n",
    "\n",
    "fig, axs = plt.subplots(rows, cols, figsize=(cols * (4*(m/n)), rows * 1.25*(n/m)))\n",
    "fig.subplots_adjust(hspace=0, wspace=0)\n",
    "\n",
    "axs = axs.ravel() if num_images > 1 else [axs]\n",
    "\n",
    "for i in range(num_images):\n",
    "    axs[i].imshow(images[i], cmap='gray')\n",
    "    axs[i].set_title(f'{titles[i]}\\nFrobenius error: {frobenius[i]:.3g}%\\nMemory saved: {memory[i]:.3g}%', fontsize=5)\n",
    "    axs[i].axis('off')\n",
    "for ax in axs[num_images:]:\n",
    "    ax.axis('off')\n",
    "plt.savefig(os.path.join(directory, 'compressed-milkyway.png'), dpi=400)\n",
    "plt.show()"
   ]
  }
 ],
 "metadata": {
  "kernelspec": {
   "display_name": "Python 3 (ipykernel)",
   "language": "python",
   "name": "python3"
  },
  "language_info": {
   "codemirror_mode": {
    "name": "ipython",
    "version": 3
   },
   "file_extension": ".py",
   "mimetype": "text/x-python",
   "name": "python",
   "nbconvert_exporter": "python",
   "pygments_lexer": "ipython3",
   "version": "3.11.8"
  }
 },
 "nbformat": 4,
 "nbformat_minor": 5
}
