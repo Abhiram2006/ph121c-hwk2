{
 "cells": [
  {
   "cell_type": "code",
   "execution_count": null,
   "id": "123e0f22-98d8-49db-966b-6cda1665b985",
   "metadata": {},
   "outputs": [],
   "source": [
    "def MPS(psi):\n",
    "    \n",
    "    MPStensors = []\n",
    "    L=int(np.log2(len(psi)))\n",
    "    psi_matrix = psi.reshape(2, 2**(L-1))\n",
    "    \n",
    "    U, S, Vh = np.linalg.svd(psi_matrix)\n",
    "    \n",
    "    \n",
    "    \n",
    "    \n",
    "    \n",
    "    \n",
    "    \n",
    "    \n",
    "    \n",
    "    \n",
    "    "
   ]
  }
 ],
 "metadata": {
  "kernelspec": {
   "display_name": "Python 3 (ipykernel)",
   "language": "python",
   "name": "python3"
  },
  "language_info": {
   "codemirror_mode": {
    "name": "ipython",
    "version": 3
   },
   "file_extension": ".py",
   "mimetype": "text/x-python",
   "name": "python",
   "nbconvert_exporter": "python",
   "pygments_lexer": "ipython3",
   "version": "3.11.8"
  }
 },
 "nbformat": 4,
 "nbformat_minor": 5
}
