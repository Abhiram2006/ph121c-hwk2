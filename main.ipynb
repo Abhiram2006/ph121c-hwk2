{
 "cells": [
  {
   "cell_type": "code",
   "execution_count": 4,
   "id": "7dfa9c4e-7d10-45e5-af76-a22edc450446",
   "metadata": {},
   "outputs": [],
   "source": [
    "from PIL import Image\n",
    "import numpy as np\n",
    "import scipy\n",
    "import matplotlib.pyplot as plt\n",
    "from tqdm import tqdm\n",
    "import time\n",
    "import sys\n",
    "import os\n",
    "from multiprocessing import Pool\n",
    "from functools import partial\n",
    "directory = 'figures'\n",
    "if not os.path.exists(directory):\n",
    "    os.makedirs(directory)\n",
    "from concurrent.futures import ProcessPoolExecutor, as_completed\n",
    "from dask.distributed import Client, progress\n",
    "from dask import compute, delayed\n",
    "import dask.array as da\n",
    "from dask.diagnostics import ProgressBar\n",
    "plt.rcParams['figure.dpi']=400"
   ]
  },
  {
   "cell_type": "code",
   "execution_count": 42,
   "id": "7188c28f-190b-4458-b3d0-f33896037634",
   "metadata": {
    "tags": []
   },
   "outputs": [],
   "source": [
    "def load_image(num):\n",
    "    # loads image, converts to grayscale, then converts to a matrix\n",
    "    image = Image.open(f'image{num}.png')\n",
    "    gray_image = image.convert('L')\n",
    "    matrix = np.array(gray_image)\n",
    "    return matrix\n",
    "\n",
    "def compute_svd(image_matrix):\n",
    "    # computes the singular value decomposition of a matrix\n",
    "    U, s, Vt = np.linalg.svd(image_matrix, full_matrices=False)\n",
    "    return U, s, Vt\n",
    "\n",
    "def compress_image(U, s, Vt, k):\n",
    "    # compresses it to rank k\n",
    "    S = np.diag(s[:k])\n",
    "    return np.dot(U[:, :k], np.dot(S, Vt[:k, :]))\n",
    "\n",
    "def frobenius_percent(original, approx):\n",
    "    # computes frobenius error\n",
    "    return 100*(np.linalg.norm(original - approx, 'fro')/np.linalg.norm(original, 'fro'))\n",
    "\n",
    "def memory_saved(m, n, k, s):\n",
    "    # computes percentage memory saved\n",
    "    new = (m * k + k + n * k)\n",
    "    old = m * len(s) + len(s) + n * len(s)\n",
    "    return 100*(old-new)/old\n",
    "    "
   ]
  },
  {
   "cell_type": "code",
   "execution_count": 85,
   "id": "b8a3bbb2-67da-4314-913d-60b00c75a0c4",
   "metadata": {
    "tags": []
   },
   "outputs": [],
   "source": [
    "path = 2\n",
    "A = load_image(path)\n",
    "U, s, Vt = compute_svd(A)\n",
    "N = int(np.log2(len(s)))\n",
    "ks=[]\n",
    "\n",
    "for i in range(2, N+1):\n",
    "    ks.append(len(s)//2**i) \n",
    "    \n",
    "images = [A]\n",
    "titles = [f'Original, k = {len(s)}']\n",
    "frobenius=[0]\n",
    "m, n = A.shape\n",
    "memory=[0]\n",
    "\n",
    "for k in ks:\n",
    "    A_k = compress_image(U, s, Vt, k)\n",
    "    images.append(A_k)\n",
    "    frobenius.append(frobenius_percent(A, A_k))\n",
    "    memory.append(memory_saved(m, n, k, s))\n",
    "    titles.append(f'k = {k}')"
   ]
  },
  {
   "cell_type": "code",
   "execution_count": null,
   "id": "053eae78-45cf-453c-88de-84af3c164b59",
   "metadata": {
    "tags": []
   },
   "outputs": [],
   "source": [
    "num_images = len(images)\n",
    "cols = min(num_images, 3)\n",
    "rows = num_images // cols + (num_images % cols > 0)\n",
    "\n",
    "fig, axs = plt.subplots(rows, cols, figsize=(cols * (4*(m/n)), rows * 1.5*(n/m)))\n",
    "fig.subplots_adjust(hspace=1, wspace=0)\n",
    "\n",
    "axs = axs.ravel() if num_images > 1 else [axs]\n",
    "\n",
    "for i in range(num_images):\n",
    "    axs[i].imshow(images[i], cmap='gray')\n",
    "    axs[i].set_title(f'{titles[i]}\\nFrobenius error: {frobenius[i]:.3g}%\\nMemory saved: {memory[i]:.3g}%')\n",
    "    axs[i].axis('off')\n",
    "for ax in axs[num_images:]:\n",
    "    ax.axis('off')\n",
    "plt.savefig(os.path.join(directory, 'compressed-milkyway.png'), dpi=400)\n",
    "plt.show()"
   ]
  },
  {
   "cell_type": "code",
   "execution_count": 81,
   "id": "818c648d-5c15-42f9-8cc0-d2cea41d0e9c",
   "metadata": {
    "tags": []
   },
   "outputs": [
    {
     "name": "stdout",
     "output_type": "stream",
     "text": [
      "4\n"
     ]
    }
   ],
   "source": [
    "s=np.zeros((16,1))\n",
    "N=int(np.log2(len(s)))\n",
    "print(N)"
   ]
  },
  {
   "cell_type": "code",
   "execution_count": 35,
   "id": "1b611cf3-febf-48cc-909c-21c7f6dd3835",
   "metadata": {
    "tags": []
   },
   "outputs": [
    {
     "name": "stdout",
     "output_type": "stream",
     "text": [
      "(844, 1341)\n",
      "(844, 1341)\n",
      "(844, 1341)\n",
      "(844, 1341)\n",
      "(844, 1341)\n",
      "(844, 1341)\n",
      "(844, 1341)\n",
      "(844, 1341)\n",
      "(844, 1341)\n"
     ]
    }
   ],
   "source": [
    "for i in images:\n",
    "    print(i.shape)"
   ]
  },
  {
   "cell_type": "code",
   "execution_count": null,
   "id": "791e82bc-564a-495f-bf64-f12998a940e0",
   "metadata": {},
   "outputs": [],
   "source": []
  }
 ],
 "metadata": {
  "kernelspec": {
   "display_name": "Python 3 (ipykernel)",
   "language": "python",
   "name": "python3"
  },
  "language_info": {
   "codemirror_mode": {
    "name": "ipython",
    "version": 3
   },
   "file_extension": ".py",
   "mimetype": "text/x-python",
   "name": "python",
   "nbconvert_exporter": "python",
   "pygments_lexer": "ipython3",
   "version": "3.11.8"
  }
 },
 "nbformat": 4,
 "nbformat_minor": 5
}
