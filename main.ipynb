{
 "cells": [
  {
   "cell_type": "code",
   "execution_count": 5,
   "id": "7dfa9c4e-7d10-45e5-af76-a22edc450446",
   "metadata": {},
   "outputs": [],
   "source": [
    "from PIL import Image\n",
    "import numpy as np\n",
    "import scipy\n",
    "import matplotlib.pyplot as plt\n",
    "from tqdm import tqdm\n",
    "import time\n",
    "import sys\n",
    "import os\n",
    "from multiprocessing import Pool\n",
    "from functools import partial\n",
    "directory = 'figures'\n",
    "if not os.path.exists(directory):\n",
    "    os.makedirs(directory)\n",
    "from concurrent.futures import ProcessPoolExecutor, as_completed\n",
    "from dask.distributed import Client, progress\n",
    "from dask import compute, delayed\n",
    "import dask.array as da\n",
    "from dask.diagnostics import ProgressBar\n",
    "plt.rcParams['figure.dpi']=400"
   ]
  },
  {
   "cell_type": "markdown",
   "id": "37227ae7-de9e-455f-bcc3-d851fa7d7da9",
   "metadata": {},
   "source": [
    "# Problem 4.1"
   ]
  },
  {
   "cell_type": "code",
   "execution_count": null,
   "id": "7188c28f-190b-4458-b3d0-f33896037634",
   "metadata": {
    "tags": []
   },
   "outputs": [],
   "source": [
    "def load_image(num):\n",
    "    # loads image, converts to grayscale, then converts to a matrix\n",
    "    image = Image.open('images/'+f'image{num}.png')\n",
    "    gray_image = image.convert('L')\n",
    "    matrix = np.array(gray_image)\n",
    "    return matrix\n",
    "\n",
    "def compute_svd(image_matrix):\n",
    "    # computes the singular value decomposition of a matrix\n",
    "    U, s, Vt = np.linalg.svd(image_matrix, full_matrices=False)\n",
    "    return U, s, Vt\n",
    "\n",
    "def compress_image(U, s, Vt, k):\n",
    "    # compresses it to rank k\n",
    "    S = np.diag(s[:k])\n",
    "    return np.dot(U[:, :k], np.dot(S, Vt[:k, :]))\n",
    "\n",
    "def frobenius_percent(original, approx):\n",
    "    # computes frobenius error\n",
    "    return 100*(np.linalg.norm(original - approx, 'fro')/np.linalg.norm(original, 'fro'))\n",
    "\n",
    "def memory_saved(m, n, k, s):\n",
    "    # computes percentage memory saved\n",
    "    new = (m * k + k + n * k)\n",
    "    old = m * len(s) + len(s) + n * len(s)\n",
    "    return 100*(old-new)/old\n",
    "    "
   ]
  },
  {
   "cell_type": "code",
   "execution_count": null,
   "id": "b8a3bbb2-67da-4314-913d-60b00c75a0c4",
   "metadata": {
    "tags": []
   },
   "outputs": [],
   "source": [
    "path = 2\n",
    "A = load_image(path)\n",
    "U, s, Vt = compute_svd(A)\n",
    "N = int(np.log2(len(s)))\n",
    "ks=[]\n",
    "\n",
    "for i in range(2, N+1):\n",
    "    ks.append(len(s)//2**i) \n",
    "    \n",
    "images = [A]\n",
    "titles = [f'Original, k = {len(s)}']\n",
    "frobenius=[0]\n",
    "m, n = A.shape\n",
    "memory=[0]\n",
    "\n",
    "for k in ks:\n",
    "    A_k = compress_image(U, s, Vt, k)\n",
    "    images.append(A_k)\n",
    "    frobenius.append(frobenius_percent(A, A_k))\n",
    "    memory.append(memory_saved(m, n, k, s))\n",
    "    titles.append(f'k = {k}')"
   ]
  },
  {
   "cell_type": "code",
   "execution_count": null,
   "id": "053eae78-45cf-453c-88de-84af3c164b59",
   "metadata": {
    "tags": []
   },
   "outputs": [],
   "source": [
    "num_images = len(images)\n",
    "cols = min(num_images, 3)\n",
    "rows = num_images // cols + (num_images % cols > 0)\n",
    "\n",
    "fig, axs = plt.subplots(rows, cols, figsize=(cols * (4*(m/n)), rows * 1.25*(n/m)))\n",
    "fig.subplots_adjust(hspace=0, wspace=0)\n",
    "\n",
    "axs = axs.ravel() if num_images > 1 else [axs]\n",
    "\n",
    "for i in range(num_images):\n",
    "    axs[i].imshow(images[i], cmap='gray')\n",
    "    axs[i].set_title(f'{titles[i]}\\nFrobenius error: {frobenius[i]:.3g}%\\nMemory saved: {memory[i]:.3g}%', fontsize=5)\n",
    "    axs[i].axis('off')\n",
    "for ax in axs[num_images:]:\n",
    "    ax.axis('off')\n",
    "plt.savefig(os.path.join(directory, 'compressed-milkyway.png'), dpi=400)\n",
    "plt.show()"
   ]
  },
  {
   "cell_type": "markdown",
   "id": "608b607d-18b5-49ca-865f-0304165e997d",
   "metadata": {},
   "source": [
    "# Problem 4.2"
   ]
  },
  {
   "cell_type": "code",
   "execution_count": 6,
   "id": "600873d0-1297-4557-bbe0-c46e1980b581",
   "metadata": {
    "tags": []
   },
   "outputs": [],
   "source": [
    "def sparseH(L, J, h, periodic):\n",
    "    \n",
    "    \"\"\"\n",
    "    generates the sparse Hamiltonian matrix for the quantum Ising chain\n",
    "    \n",
    "        Parameters:\n",
    "            L (int): length of chain\n",
    "            J (float): ising interaction strength\n",
    "            h (float): magnetic field strength\n",
    "            periodic (bool): does the chain have periodic boundary conditions?\n",
    "            \n",
    "        Returns:\n",
    "            H (csr_matrix): sparse matrix representing the Hamiltonian operator\n",
    "    \"\"\"\n",
    "    \n",
    "    dim = 2 ** L # dimensions of the Hilbert space\n",
    "    \n",
    "    # initialize \n",
    "    H_data = []\n",
    "    H_rows = []\n",
    "    H_cols = []\n",
    "    \n",
    "    \"Calculation of off-diagonal elements due to the magnetic field\"\n",
    "    \n",
    "    for beta in range(dim): # iterate over all states\n",
    "        \n",
    "        for j in range(1, L + 1): # iterate over all sites\n",
    "            \n",
    "            alpha = beta ^ (1 << (j - 1)) # flips jth bit of beta to get the state alpha that is related to beta by a single bit flip\n",
    "            \n",
    "            \"Keep track of the indices with non-zero matrix elements\"\n",
    "            \n",
    "            H_data.append(-h)\n",
    "            H_rows.append(alpha)\n",
    "            H_cols.append(beta)\n",
    "    \n",
    "    \"Calculation of diagonal elements due to Ising interaction\"\n",
    "\n",
    "    for alpha in range(dim):  # iterate over all states\n",
    "        \n",
    "        A = 0\n",
    "        \n",
    "        for j in range(1, L): # iterate over all sites\n",
    "            \n",
    "            if 2 * (alpha & (1 << (j - 1))) == alpha & (1 << j): # check if site j and j+1 have the same spin\n",
    "                \n",
    "                A -= J # if they do, decrease the energy by the ising interaction term\n",
    "                \n",
    "            else:\n",
    "                \n",
    "                A += J # if not, increase the energy by the ising interaction term\n",
    "                \n",
    "        \"Handling periodic boundary conditions\"\n",
    "                \n",
    "        if periodic and L > 1: # L > 1 needed for periodicity to mean anything\n",
    "            \n",
    "            if (alpha & (1 << (L - 1))) == ((alpha & (1 << 0)) * (2 ** (L - 1))): # Check if the states at either end have the same spin\n",
    "                \n",
    "                A -= J # if they do, decrease the energy by the ising interaction term\n",
    "                \n",
    "            else:\n",
    "                \n",
    "                A += J # if not, increase the energy by the ising interaction term\n",
    "        \n",
    "        if A != 0: # Check if the resulting matrix element is non-zero, if so, keep track of it\n",
    "        \n",
    "            H_data.append(A)\n",
    "            H_rows.append(alpha)\n",
    "            H_cols.append(alpha)\n",
    "\n",
    "    H_data = np.array(H_data, dtype=float) # convert the list into a np array\n",
    "    \n",
    "    H = scipy.sparse.csr_matrix((H_data, (H_rows, H_cols)), shape=(dim, dim), dtype=np.float64) # make it into a csr sparse matrix\n",
    "    \n",
    "    return H"
   ]
  },
  {
   "cell_type": "code",
   "execution_count": 11,
   "id": "b7da5fa0-bdc7-4f98-b6d0-69363da6f3b8",
   "metadata": {
    "tags": []
   },
   "outputs": [],
   "source": [
    "def psi_gs(L, J, h, periodic):\n",
    "    H = sparseH(L, J, h, periodic)\n",
    "    return scipy.sparse.linalg.eigsh(H, k=1, which='SA')[1]"
   ]
  },
  {
   "cell_type": "code",
   "execution_count": 76,
   "id": "52ae0734-f99e-4f1f-aafd-c408d6e43ee8",
   "metadata": {
    "tags": []
   },
   "outputs": [],
   "source": [
    "def coefficient_matrix(l, L, vec):\n",
    "    \n",
    "    matrix = np.zeros((2**l, 2**(L-l)))\n",
    "    \n",
    "    for alpha in range(2**L):\n",
    "        \n",
    "        beta = alpha >> (L-l)\n",
    "        \n",
    "        gamma = alpha - (beta << (L-l))\n",
    "        \n",
    "        matrix[beta, gamma] = vec[alpha][0]\n",
    "    \n",
    "    return matrix\n",
    "    \n",
    "                      "
   ]
  },
  {
   "cell_type": "code",
   "execution_count": 99,
   "id": "6cd0338d-e4f2-4160-a446-cd13491ed5a7",
   "metadata": {
    "tags": []
   },
   "outputs": [],
   "source": [
    "def entropy(l, L, J, h, periodic):\n",
    "    # computes S(l;L)\n",
    "    \n",
    "    vec = psi_gs(L, J, h, periodic)\n",
    "    \n",
    "    coeff_matrix = vec.reshape((2**l, 2**(L-l)))\n",
    "    \n",
    "    rho_A = np.zeros((2**l, 2**l), dtype=complex)\n",
    "\n",
    "    for i in range(2**l):\n",
    "        for k in range(2**(l)):\n",
    "            # Sum over the states of A^c\n",
    "            rho_A[i, k] = np.dot(coeff_matrix[i, :], coeff_matrix[k, :].conj())\n",
    "\n",
    "\n",
    "    eigenvalues = np.linalg.eigh(rho_A)[0]\n",
    "\n",
    "    S = -np.sum(eigenvalues * np.log(eigenvalues))\n",
    "    \n",
    "    return S"
   ]
  },
  {
   "cell_type": "code",
   "execution_count": 100,
   "id": "56921efc-0b61-4df9-a7e8-f42fb78f99d2",
   "metadata": {
    "tags": []
   },
   "outputs": [
    {
     "name": "stdout",
     "output_type": "stream",
     "text": [
      "0.35930701512653634\n",
      "0.35930701512653573\n"
     ]
    }
   ],
   "source": [
    "print(entropy(3, 10, 1, 1, False))\n",
    "print(entanglement_entropy(3, 10, 1, 1, False))"
   ]
  },
  {
   "cell_type": "code",
   "execution_count": 94,
   "id": "ee9ab798-5783-4439-a9fe-7ad3d9838d06",
   "metadata": {
    "tags": []
   },
   "outputs": [],
   "source": [
    "def entanglement_entropy(l, L, J, h, periodic):\n",
    "    \"\"\"\n",
    "    Calculate the entanglement entropy of a segment of the chain.\n",
    "\n",
    "    Parameters:\n",
    "        psi (numpy.ndarray): The ground state wavefunction.\n",
    "        L (int): Total length of the chain.\n",
    "        l (int): Length of the segment to consider for entanglement.\n",
    "\n",
    "    Returns:\n",
    "        S (float): The entanglement entropy of the segment.\n",
    "    \"\"\"\n",
    "    vec = psi_gs(L, J, h, periodic)\n",
    "    # Reshape psi into a matrix with dimensions corresponding to subsystems A and A^c\n",
    "    psi_matrix = vec.reshape((2**l, 2**(L-l)))\n",
    "\n",
    "    # Perform singular value decomposition\n",
    "    u, s, vh = np.linalg.svd(psi_matrix, compute_uv=True)\n",
    "\n",
    "    # Calculate the squares of the singular values, which are the eigenvalues of rho_A\n",
    "    lambdas = s**2\n",
    "    # Calculate the entanglement entropy\n",
    "    S = -np.sum(lambdas * np.log(lambdas))\n",
    "\n",
    "    return S"
   ]
  },
  {
   "cell_type": "code",
   "execution_count": 39,
   "id": "4393344d-4aac-4fe9-879a-8ca377f44170",
   "metadata": {
    "tags": []
   },
   "outputs": [
    {
     "name": "stdout",
     "output_type": "stream",
     "text": [
      "[[0.29339911]\n",
      " [0.14835658]\n",
      " [0.09318807]\n",
      " ...\n",
      " [0.09318807]\n",
      " [0.14835658]\n",
      " [0.29339911]]\n",
      "[[0.29339911 0.14835658 0.09318807 ... 0.03252672 0.05120963 0.09941022]\n",
      " [0.08638464 0.04388784 0.02764973 ... 0.03676075 0.05825056 0.11426809]\n",
      " [0.09318807 0.04729094 0.02976789 ... 0.01636846 0.02590641 0.0507405 ]\n",
      " ...\n",
      " [0.0507405  0.02590641 0.01636846 ... 0.02976789 0.04729094 0.09318807]\n",
      " [0.11426809 0.05825056 0.03676075 ... 0.02764973 0.04388784 0.08638464]\n",
      " [0.09941022 0.05120963 0.03252672 ... 0.09318807 0.14835658 0.29339911]]\n",
      "[8.85364722e-01 1.14167317e-01 4.14376315e-04 5.34336088e-05\n",
      " 1.33550255e-07 1.72212354e-08 6.25053846e-11 8.06003661e-12]\n",
      "0.35930701512653634\n"
     ]
    }
   ],
   "source": [
    "print(entanglement_entropy(3, 10, 1, 1, False))"
   ]
  },
  {
   "cell_type": "code",
   "execution_count": null,
   "id": "5df211d5-dde3-4d19-aac4-cd9216d0d9de",
   "metadata": {},
   "outputs": [],
   "source": []
  }
 ],
 "metadata": {
  "kernelspec": {
   "display_name": "Python 3 (ipykernel)",
   "language": "python",
   "name": "python3"
  },
  "language_info": {
   "codemirror_mode": {
    "name": "ipython",
    "version": 3
   },
   "file_extension": ".py",
   "mimetype": "text/x-python",
   "name": "python",
   "nbconvert_exporter": "python",
   "pygments_lexer": "ipython3",
   "version": "3.11.8"
  }
 },
 "nbformat": 4,
 "nbformat_minor": 5
}
