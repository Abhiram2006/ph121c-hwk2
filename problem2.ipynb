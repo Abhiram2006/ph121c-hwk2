{
 "cells": [
  {
   "cell_type": "code",
   "execution_count": null,
   "id": "7dfa9c4e-7d10-45e5-af76-a22edc450446",
   "metadata": {},
   "outputs": [],
   "source": [
    "from PIL import Image\n",
    "import numpy as np\n",
    "import scipy\n",
    "import matplotlib.pyplot as plt\n",
    "from tqdm import tqdm\n",
    "import time\n",
    "import sys\n",
    "import os\n",
    "from multiprocessing import Pool\n",
    "from functools import partial\n",
    "directory = 'figures'\n",
    "if not os.path.exists(directory):\n",
    "    os.makedirs(directory)\n",
    "from concurrent.futures import ProcessPoolExecutor, as_completed\n",
    "from dask.distributed import Client, progress\n",
    "from dask import compute, delayed\n",
    "import dask.array as da\n",
    "from dask.diagnostics import ProgressBar\n",
    "plt.rcParams['figure.dpi']=400"
   ]
  },
  {
   "cell_type": "markdown",
   "id": "608b607d-18b5-49ca-865f-0304165e997d",
   "metadata": {},
   "source": [
    "# Problem 4.2"
   ]
  },
  {
   "cell_type": "code",
   "execution_count": null,
   "id": "600873d0-1297-4557-bbe0-c46e1980b581",
   "metadata": {
    "tags": []
   },
   "outputs": [],
   "source": [
    "def sparseH(L, J, h, periodic):\n",
    "    \n",
    "    \"\"\"\n",
    "    generates the sparse Hamiltonian matrix for the quantum Ising chain\n",
    "    \n",
    "        Parameters:\n",
    "            L (int): length of chain\n",
    "            J (float): ising interaction strength\n",
    "            h (float): magnetic field strength\n",
    "            periodic (bool): does the chain have periodic boundary conditions?\n",
    "            \n",
    "        Returns:\n",
    "            H (csr_matrix): sparse matrix representing the Hamiltonian operator\n",
    "    \"\"\"\n",
    "    \n",
    "    dim = 2 ** L # dimensions of the Hilbert space\n",
    "    \n",
    "    # initialize \n",
    "    H_data = []\n",
    "    H_rows = []\n",
    "    H_cols = []\n",
    "    \n",
    "    \"Calculation of off-diagonal elements due to the magnetic field\"\n",
    "    \n",
    "    for beta in range(dim): # iterate over all states\n",
    "        \n",
    "        for j in range(1, L + 1): # iterate over all sites\n",
    "            \n",
    "            alpha = beta ^ (1 << (j - 1)) # flips jth bit of beta to get the state alpha that is related to beta by a single bit flip\n",
    "            \n",
    "            \"Keep track of the indices with non-zero matrix elements\"\n",
    "            \n",
    "            H_data.append(-h)\n",
    "            H_rows.append(alpha)\n",
    "            H_cols.append(beta)\n",
    "    \n",
    "    \"Calculation of diagonal elements due to Ising interaction\"\n",
    "\n",
    "    for alpha in range(dim):  # iterate over all states\n",
    "        \n",
    "        A = 0\n",
    "        \n",
    "        for j in range(1, L): # iterate over all sites\n",
    "            \n",
    "            if 2 * (alpha & (1 << (j - 1))) == alpha & (1 << j): # check if site j and j+1 have the same spin\n",
    "                \n",
    "                A -= J # if they do, decrease the energy by the ising interaction term\n",
    "                \n",
    "            else:\n",
    "                \n",
    "                A += J # if not, increase the energy by the ising interaction term\n",
    "                \n",
    "        \"Handling periodic boundary conditions\"\n",
    "                \n",
    "        if periodic and L > 1: # L > 1 needed for periodicity to mean anything\n",
    "            \n",
    "            if (alpha & (1 << (L - 1))) == ((alpha & (1 << 0)) * (2 ** (L - 1))): # Check if the states at either end have the same spin\n",
    "                \n",
    "                A -= J # if they do, decrease the energy by the ising interaction term\n",
    "                \n",
    "            else:\n",
    "                \n",
    "                A += J # if not, increase the energy by the ising interaction term\n",
    "        \n",
    "        if A != 0: # Check if the resulting matrix element is non-zero, if so, keep track of it\n",
    "        \n",
    "            H_data.append(A)\n",
    "            H_rows.append(alpha)\n",
    "            H_cols.append(alpha)\n",
    "\n",
    "    H_data = np.array(H_data, dtype=float) # convert the list into a np array\n",
    "    \n",
    "    H = scipy.sparse.csr_matrix((H_data, (H_rows, H_cols)), shape=(dim, dim), dtype=np.float64) # make it into a csr sparse matrix\n",
    "    \n",
    "    return H"
   ]
  },
  {
   "cell_type": "code",
   "execution_count": null,
   "id": "b7da5fa0-bdc7-4f98-b6d0-69363da6f3b8",
   "metadata": {
    "tags": []
   },
   "outputs": [],
   "source": [
    "def psi_gs(L, J, h, periodic):\n",
    "    H = sparseH(L, J, h, periodic)\n",
    "    return scipy.sparse.linalg.eigsh(H, k=1, which='SA')[1]"
   ]
  },
  {
   "cell_type": "code",
   "execution_count": null,
   "id": "ee9ab798-5783-4439-a9fe-7ad3d9838d06",
   "metadata": {},
   "outputs": [],
   "source": [
    "def entanglement_entropy(l, L, J, h, periodic):\n",
    "\n",
    "    vec = psi_gs(L, J, h, periodic)\n",
    "    psi_matrix = vec.reshape((2**l, 2**(L-l)))\n",
    "    u, s, vh = np.linalg.svd(psi_matrix, compute_uv=True)\n",
    "    lambdas = s**2\n",
    "    S = -np.sum(lambdas * np.log(lambdas))\n",
    "    \n",
    "    return S"
   ]
  },
  {
   "cell_type": "code",
   "execution_count": null,
   "id": "5df211d5-dde3-4d19-aac4-cd9216d0d9de",
   "metadata": {
    "tags": []
   },
   "outputs": [],
   "source": [
    "def compute_entropies(L_values, h, periodic):\n",
    "    results = {}\n",
    "    for L in L_values:\n",
    "        ls = range(1, L)\n",
    "        Entropies = []\n",
    "        for l in tqdm(ls, desc=f'Computing for L={L}'):\n",
    "            entropy = entanglement_entropy(l, L, 1, h, periodic)\n",
    "            Entropies.append(entropy)\n",
    "        results[L] = Entropies\n",
    "    return results\n",
    "\n",
    "def plot_results(results):\n",
    "    plt.figure(figsize=(10, 6))\n",
    "    for L, entropies in results.items():\n",
    "        plt.plot(range(1, L)/np.array(L), entropies, label=f'L={L}')\n",
    "    plt.xlabel(r'Normalized subsystem Size $\\frac{l}{L}$')\n",
    "    plt.ylabel('Entanglement Entropy')\n",
    "    plt.title('Entanglement Entropy vs. Subsystem Size in the ferromagnetic phase with periodic b.c.')\n",
    "    plt.legend()\n",
    "    plt.grid(True)\n",
    "\n",
    "L_values = [5, 8, 10, 15]\n",
    "h = 0.3\n",
    "periodic = True\n",
    "\n",
    "entropies = compute_entropies(L_values, h, periodic)\n",
    "plot_results(entropies)\n",
    "plt.savefig(os.path.join(directory, 'ferro-periodic.png'), dpi =400)\n",
    "plt.show()\n"
   ]
  },
  {
   "cell_type": "code",
   "execution_count": null,
   "id": "ec63b93b-da7f-4f9b-a94a-adcc5c5ee36d",
   "metadata": {
    "tags": []
   },
   "outputs": [],
   "source": [
    "L_values = range(2, 16)\n",
    "h = 1.7\n",
    "\n",
    "\n",
    "Eper=[]\n",
    "Eopen=[]\n",
    "\n",
    "for L in L_values:\n",
    "    if L%2 == 0:\n",
    "        Eper.append(entanglement_entropy(L//2, L, 1, h, True))\n",
    "        Eopen.append(entanglement_entropy(L//2, L, 1, h, False))\n",
    "    else:\n",
    "        Eper.append(entanglement_entropy(L//2+1, L, 1, h, True))\n",
    "        Eopen.append(entanglement_entropy(L//2+1, L, 1, h, False))\n",
    "        \n",
    "plt.plot(L_values, Eper, label='periodic')\n",
    "plt.plot(L_values, Eopen, label='open')\n",
    "plt.xlabel('L')\n",
    "plt.ylabel('S(L/2; L)')\n",
    "plt.title('S(L/2; L) vs L in the paramagnetic phase')\n",
    "\n",
    "plt.legend()\n",
    "plt.savefig(os.path.join(directory, 'para_SL2.png'), dpi =400)\n",
    "plt.show()"
   ]
  },
  {
   "cell_type": "code",
   "execution_count": null,
   "id": "0e919ec4-8555-4e7d-83da-852fb7594720",
   "metadata": {},
   "outputs": [],
   "source": [
    "L = 15\n",
    "J = 1\n",
    "h = 1\n",
    "periodic = False\n",
    "ls = np.array(range(1, 15))\n",
    "entropies=[]\n",
    "\n",
    "for l in ls:\n",
    "    entropy=entanglement_entropy(l, L, J, h, periodic)\n",
    "    entropies.append(entropy)"
   ]
  },
  {
   "cell_type": "code",
   "execution_count": null,
   "id": "0f871b54-40d5-4c8a-a8b3-a361b4c4e1d8",
   "metadata": {
    "tags": []
   },
   "outputs": [],
   "source": [
    "def fitfunc(l, c, C):\n",
    "    return ((c/3) * np.log((L/np.pi) * np.sin(np.pi*(l/L)))) + C\n",
    "\n",
    "params, covariance = scipy.optimize.curve_fit(fitfunc, ls, entropies)\n",
    "\n",
    "c, C = params\n",
    "print('c: ', c)\n",
    "print('C: ', C)"
   ]
  },
  {
   "cell_type": "code",
   "execution_count": null,
   "id": "eca691f5-28fb-416e-9f59-55ceeb137920",
   "metadata": {
    "tags": []
   },
   "outputs": [],
   "source": [
    "lcont = np.linspace(1, 14, 1000)\n",
    "Econt = fitfunc(lcont, *params)\n",
    "\n",
    "plt.plot(lcont, Econt, color='xkcd:bright red', label=r'Fitted curve: $S = \\frac{{c}}{3} \\log\\left(\\frac{{L}}{{\\pi}} \\sin\\left(\\frac{{\\pi l}}{{L}}\\right)\\right) + {C}$')\n",
    "plt.plot(ls, entropies, 'o', label='Entropies')\n",
    "\n",
    "\n",
    "plt.xlabel('Segment length l')\n",
    "plt.ylabel('Entanglement entropy S')\n",
    "plt.title(f'fit of S for open b.c., L={L} at critical point')\n",
    "plt.legend()\n",
    "plt.savefig(os.path.join(directory, 'openfitE.png'), dpi =400)\n",
    "plt.show()"
   ]
  },
  {
   "cell_type": "code",
   "execution_count": null,
   "id": "e2c62623-3555-4f5f-8b0b-ba98ef054528",
   "metadata": {
    "tags": []
   },
   "outputs": [],
   "source": [
    "def high_entropy(l, L, J, h, periodic):\n",
    "    \n",
    "    H = sparseH(L, J, h, periodic)\n",
    "    \n",
    "    vec = scipy.sparse.linalg.eigsh(H, k=1, which='LA')[1]\n",
    "    \n",
    "    psi_matrix = vec.reshape((2**l, 2**(L-l)))\n",
    "    u, s, vh = np.linalg.svd(psi_matrix, compute_uv=True)\n",
    "    lambdas = s**2\n",
    "    S = -np.sum(lambdas * np.log(lambdas))\n",
    "\n",
    "    return S"
   ]
  },
  {
   "cell_type": "code",
   "execution_count": null,
   "id": "6545618f-7e2a-4485-abc8-37591a4acd5f",
   "metadata": {
    "tags": []
   },
   "outputs": [],
   "source": [
    "print(high_entropy(3, 10, 1, 0.4, True))"
   ]
  },
  {
   "cell_type": "code",
   "execution_count": null,
   "id": "96a27d1a-21fd-47ec-9c8a-0ded10170e18",
   "metadata": {
    "tags": []
   },
   "outputs": [],
   "source": [
    "def compute_entropies(L_values, h, periodic):\n",
    "    results = {}\n",
    "    for L in L_values:\n",
    "        ls = range(1, L)\n",
    "        Entropies = []\n",
    "        for l in tqdm(ls, desc=f'Computing for L={L}'):\n",
    "            entropy = high_entropy(l, L, 1, h, periodic)\n",
    "            Entropies.append(entropy)\n",
    "        results[L] = Entropies\n",
    "    return results\n",
    "\n",
    "def plot_results(results):\n",
    "    plt.figure(figsize=(10, 6))\n",
    "    for L, entropies in results.items():\n",
    "        plt.plot(range(1, L)/np.array(L), entropies, label=f'L={L}')\n",
    "    plt.xlabel(r'Normalized subsystem Size $\\frac{l}{L}$')\n",
    "    plt.ylabel('Entanglement Entropy')\n",
    "    plt.title('Entanglement Entropy vs. Subsystem Size in the ferromagnetic phase with open b.c.')\n",
    "    plt.legend()\n",
    "    plt.grid(True)\n",
    "\n",
    "L_values = [5, 6, 7, 8, 9, 10, 11, 12, 13]\n",
    "h = 0.3\n",
    "periodic = False\n",
    "\n",
    "entropies = compute_entropies(L_values, h, periodic)\n",
    "plot_results(entropies)\n",
    "plt.savefig(os.path.join(directory, 'ferro-openhighest.png'), dpi =400)\n",
    "plt.show()\n"
   ]
  },
  {
   "cell_type": "code",
   "execution_count": null,
   "id": "a813aefe-3721-494a-937f-9ff4c6d3de24",
   "metadata": {
    "tags": []
   },
   "outputs": [],
   "source": [
    "L_values = range(2, 16)\n",
    "h = 1\n",
    "\n",
    "\n",
    "Eper=[]\n",
    "Eopen=[]\n",
    "\n",
    "for L in L_values:\n",
    "    if L%2 == 0:\n",
    "        Eper.append(high_entropy(L//2, L, 1, h, True))\n",
    "        Eopen.append(high_entropy(L//2, L, 1, h, False))\n",
    "    else:\n",
    "        Eper.append(high_entropy(L//2+1, L, 1, h, True))\n",
    "        Eopen.append(high_entropy(L//2+1, L, 1, h, False))\n",
    "        \n",
    "plt.plot(L_values, Eper, label='periodic')\n",
    "plt.plot(L_values, Eopen, label='open')\n",
    "plt.xlabel('L')\n",
    "plt.ylabel('S(L/2; L)')\n",
    "plt.title('S(L/2; L) vs L at the critical point for the highest excited state')\n",
    "\n",
    "plt.legend()\n",
    "plt.savefig(os.path.join(directory, 'criticalSL2.png'), dpi =400)\n",
    "plt.show()"
   ]
  },
  {
   "cell_type": "code",
   "execution_count": null,
   "id": "0b5939b8-e9ac-4d4a-95d3-81ccb5e30c67",
   "metadata": {
    "tags": []
   },
   "outputs": [],
   "source": [
    "L = 14\n",
    "J = 1\n",
    "h = 1\n",
    "periodic = True\n",
    "ls = np.array(range(1, L))\n",
    "entropies=[]\n",
    "\n",
    "for l in ls:\n",
    "    entropy=high_entropy(l, L, J, h, periodic)\n",
    "    entropies.append(entropy)"
   ]
  },
  {
   "cell_type": "code",
   "execution_count": null,
   "id": "22bc87a9-a3fa-4037-83ec-cffe0ef82339",
   "metadata": {
    "tags": []
   },
   "outputs": [],
   "source": [
    "def fitfunc(l, c, C):\n",
    "    return ((c/3) * np.log((L/np.pi) * np.sin(np.pi*(l/L)))) + C\n",
    "\n",
    "params, covariance = scipy.optimize.curve_fit(fitfunc, ls, entropies)\n",
    "\n",
    "c, C = params\n",
    "print('c: ', c)\n",
    "print('C: ', C)"
   ]
  },
  {
   "cell_type": "code",
   "execution_count": null,
   "id": "7b97ad72-ef74-4862-a564-3b2d38738f75",
   "metadata": {
    "tags": []
   },
   "outputs": [],
   "source": [
    "lcont = np.linspace(1, 13, 1000)\n",
    "Econt = fitfunc(lcont, *params)\n",
    "\n",
    "plt.plot(lcont, Econt, color='xkcd:bright red', label=r'Fitted curve: $S = \\frac{{c}}{3} \\log\\left(\\frac{{L}}{{\\pi}} \\sin\\left(\\frac{{\\pi l}}{{L}}\\right)\\right) + {C}$')\n",
    "plt.plot(ls, entropies, 'o', label='Entropies')\n",
    "\n",
    "\n",
    "plt.xlabel('Segment length l')\n",
    "plt.ylabel('Entanglement entropy S')\n",
    "plt.title(f'fit of S, periodic b.c., L={L} at critical point for highest state')\n",
    "plt.legend()\n",
    "plt.savefig(os.path.join(directory, 'periodicfitEhighestno2.png'), dpi = 400)\n",
    "plt.show()"
   ]
  },
  {
   "cell_type": "code",
   "execution_count": null,
   "id": "9b6eb670-7b6e-4de7-bf5b-62de6a92ddc8",
   "metadata": {},
   "outputs": [],
   "source": []
  }
 ],
 "metadata": {
  "kernelspec": {
   "display_name": "Python 3 (ipykernel)",
   "language": "python",
   "name": "python3"
  },
  "language_info": {
   "codemirror_mode": {
    "name": "ipython",
    "version": 3
   },
   "file_extension": ".py",
   "mimetype": "text/x-python",
   "name": "python",
   "nbconvert_exporter": "python",
   "pygments_lexer": "ipython3",
   "version": "3.11.8"
  }
 },
 "nbformat": 4,
 "nbformat_minor": 5
}
